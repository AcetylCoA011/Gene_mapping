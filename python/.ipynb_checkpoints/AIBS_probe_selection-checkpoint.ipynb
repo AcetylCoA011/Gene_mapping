{
 "cells": [
  {
   "cell_type": "markdown",
   "metadata": {},
   "source": [
    "# Probe selection of AIBS\n",
    "To be run after the sample selection.\n",
    "\n",
    "In this step we retain or exclude gene expression probes from the AIBS datasets. We will be using the re-annotated probes using our Re-annotator software which already prepared for a previous paper: Richiardi et al. (2015). We will use folling parameters for filtering:\n",
    "\n",
    "* exclude probes that were measuring multiple genes\n",
    "* exclude probes that were not mapped to a gene\n",
    "* exclude probes with low expression across the dataset.\n"
   ]
  },
  {
   "cell_type": "code",
   "execution_count": 35,
   "metadata": {},
   "outputs": [],
   "source": [
    "import os, sys\n",
    "import numpy as np\n",
    "import pandas as pd\n",
    "import scipy.spatial\n",
    "#import nipy\n",
    "#import nibabel as nib\n",
    "import math\n",
    "import feather\n",
    "from scipy.stats import t, spearmanr, norm, wilcoxon, mannwhitneyu, ttest_ind\n",
    "import matplotlib\n",
    "from matplotlib.pyplot import scatter\n",
    "from statsmodels.sandbox.stats.multicomp import multipletests\n",
    "from mpl_toolkits.mplot3d import Axes3D\n",
    "from numpy.linalg import svd, eig"
   ]
  },
  {
   "cell_type": "code",
   "execution_count": 36,
   "metadata": {},
   "outputs": [],
   "source": [
    "#some useful functions\n",
    "\n",
    "#3d scatter plots (for point clouds)\n",
    "def quickPlot3DBrain(X,Y,Z, cv='b', angle=[0,90]):\n",
    "    fig = matplotlib.pyplot.figure(figsize=[7,7])\n",
    "    ax = fig.add_subplot(111, projection='3d')\n",
    "    ax.scatter(X, Y, Z, s=2, c=cv)\n",
    "    ax.view_init(angle[0], angle[1])\n",
    "    \n",
    "    ax.xaxis.pane.fill = False\n",
    "    ax.yaxis.pane.fill = False\n",
    "    ax.zaxis.pane.fill = False\n",
    "    \n",
    "    ax.grid(False)\n",
    "    \n",
    "    matplotlib.pyplot.show()\n",
    "\n",
    "#find substrings\n",
    "def FindAnySubstring(mystr, sublist):\n",
    "    for s in sublist:\n",
    "        if mystr.find(s) > -1:\n",
    "            return True\n",
    "    return False\n",
    "\n",
    "#small function to derive the number of genes being tagged\n",
    "def GetUniqueGene(mystr):\n",
    "    tok = mystr.strip().split(' ')\n",
    "    tok_set = set(tok)\n",
    "    return(list(tok_set))\n",
    "\n",
    "def CheckUniqueGene(mystr):\n",
    "    genes = GetUniqueGene(mystr)\n",
    "    return len(genes) == 1"
   ]
  },
  {
   "cell_type": "code",
   "execution_count": 37,
   "metadata": {},
   "outputs": [],
   "source": [
    "#some options\n",
    "AIBS_path='/Users/acetylcoa/Gene_mapping/Allen_data'\n",
    "donors=['H0351_1009','H0351_1012', 'H0351_1015', 'H0351_1016', 'H0351_2001', 'H0351_2002']\n",
    "selected_samples_file = \"/Users/acetylcoa/Gene_mapping/data/selected_samples_lh_for_AIBS.csv\""
   ]
  },
  {
   "cell_type": "code",
   "execution_count": 38,
   "metadata": {},
   "outputs": [
    {
     "data": {
      "text/html": [
       "<div>\n",
       "<style scoped>\n",
       "    .dataframe tbody tr th:only-of-type {\n",
       "        vertical-align: middle;\n",
       "    }\n",
       "\n",
       "    .dataframe tbody tr th {\n",
       "        vertical-align: top;\n",
       "    }\n",
       "\n",
       "    .dataframe thead th {\n",
       "        text-align: right;\n",
       "    }\n",
       "</style>\n",
       "<table border=\"1\" class=\"dataframe\">\n",
       "  <thead>\n",
       "    <tr style=\"text-align: right;\">\n",
       "      <th></th>\n",
       "      <th>well_id</th>\n",
       "      <th>structure_id</th>\n",
       "      <th>slab_num</th>\n",
       "      <th>slab_type</th>\n",
       "      <th>structure_acronym</th>\n",
       "      <th>structure_name</th>\n",
       "      <th>polygon_id</th>\n",
       "      <th>mri_voxel_x</th>\n",
       "      <th>mri_voxel_y</th>\n",
       "      <th>mri_voxel_z</th>\n",
       "      <th>mni_x</th>\n",
       "      <th>mni_y</th>\n",
       "      <th>mni_z</th>\n",
       "      <th>corrected_mni_x</th>\n",
       "      <th>corrected_mni_y</th>\n",
       "      <th>corrected_mni_z</th>\n",
       "      <th>sampleID</th>\n",
       "      <th>probe2label</th>\n",
       "      <th>probe2dist</th>\n",
       "    </tr>\n",
       "  </thead>\n",
       "  <tbody>\n",
       "    <tr>\n",
       "      <th>0</th>\n",
       "      <td>10964</td>\n",
       "      <td>4023</td>\n",
       "      <td>2</td>\n",
       "      <td>CX</td>\n",
       "      <td>SFG-m</td>\n",
       "      <td>superior frontal gyrus, left, medial bank of g...</td>\n",
       "      <td>1266467</td>\n",
       "      <td>96</td>\n",
       "      <td>55</td>\n",
       "      <td>47</td>\n",
       "      <td>-5.0</td>\n",
       "      <td>44.0</td>\n",
       "      <td>54.0</td>\n",
       "      <td>-4.456913</td>\n",
       "      <td>42.626309</td>\n",
       "      <td>53.306473</td>\n",
       "      <td>H0351_1009</td>\n",
       "      <td>192</td>\n",
       "      <td>0.000000</td>\n",
       "    </tr>\n",
       "    <tr>\n",
       "      <th>1</th>\n",
       "      <td>10965</td>\n",
       "      <td>4039</td>\n",
       "      <td>2</td>\n",
       "      <td>CX</td>\n",
       "      <td>trIFG</td>\n",
       "      <td>inferior frontal gyrus, triangular part, left</td>\n",
       "      <td>1266555</td>\n",
       "      <td>128</td>\n",
       "      <td>113</td>\n",
       "      <td>44</td>\n",
       "      <td>-37.0</td>\n",
       "      <td>47.0</td>\n",
       "      <td>-4.0</td>\n",
       "      <td>-37.014483</td>\n",
       "      <td>42.918867</td>\n",
       "      <td>-0.301717</td>\n",
       "      <td>H0351_1009</td>\n",
       "      <td>206</td>\n",
       "      <td>1.000000</td>\n",
       "    </tr>\n",
       "    <tr>\n",
       "      <th>2</th>\n",
       "      <td>10966</td>\n",
       "      <td>4051</td>\n",
       "      <td>3</td>\n",
       "      <td>CX</td>\n",
       "      <td>MOrG</td>\n",
       "      <td>medial orbital gyrus, left</td>\n",
       "      <td>1265851</td>\n",
       "      <td>100</td>\n",
       "      <td>137</td>\n",
       "      <td>59</td>\n",
       "      <td>-9.0</td>\n",
       "      <td>32.0</td>\n",
       "      <td>-28.0</td>\n",
       "      <td>-9.535526</td>\n",
       "      <td>30.015430</td>\n",
       "      <td>-24.276204</td>\n",
       "      <td>H0351_1009</td>\n",
       "      <td>148</td>\n",
       "      <td>0.000000</td>\n",
       "    </tr>\n",
       "    <tr>\n",
       "      <th>3</th>\n",
       "      <td>10972</td>\n",
       "      <td>4224</td>\n",
       "      <td>2</td>\n",
       "      <td>CX</td>\n",
       "      <td>CgGf-i</td>\n",
       "      <td>cingulate gyrus, frontal part, left, inferior ...</td>\n",
       "      <td>1266689</td>\n",
       "      <td>96</td>\n",
       "      <td>110</td>\n",
       "      <td>46</td>\n",
       "      <td>-5.0</td>\n",
       "      <td>45.0</td>\n",
       "      <td>-1.0</td>\n",
       "      <td>-5.445986</td>\n",
       "      <td>42.277137</td>\n",
       "      <td>1.581663</td>\n",
       "      <td>H0351_1009</td>\n",
       "      <td>102</td>\n",
       "      <td>0.000000</td>\n",
       "    </tr>\n",
       "    <tr>\n",
       "      <th>4</th>\n",
       "      <td>10973</td>\n",
       "      <td>4024</td>\n",
       "      <td>3</td>\n",
       "      <td>CX</td>\n",
       "      <td>SFG-l</td>\n",
       "      <td>superior frontal gyrus, left, lateral bank of ...</td>\n",
       "      <td>1265853</td>\n",
       "      <td>114</td>\n",
       "      <td>63</td>\n",
       "      <td>62</td>\n",
       "      <td>-23.0</td>\n",
       "      <td>29.0</td>\n",
       "      <td>46.0</td>\n",
       "      <td>-18.855630</td>\n",
       "      <td>25.569178</td>\n",
       "      <td>43.817038</td>\n",
       "      <td>H0351_1009</td>\n",
       "      <td>192</td>\n",
       "      <td>1.414214</td>\n",
       "    </tr>\n",
       "  </tbody>\n",
       "</table>\n",
       "</div>"
      ],
      "text/plain": [
       "   well_id  structure_id  slab_num slab_type structure_acronym  \\\n",
       "0    10964          4023         2        CX             SFG-m   \n",
       "1    10965          4039         2        CX             trIFG   \n",
       "2    10966          4051         3        CX              MOrG   \n",
       "3    10972          4224         2        CX            CgGf-i   \n",
       "4    10973          4024         3        CX             SFG-l   \n",
       "\n",
       "                                      structure_name  polygon_id  mri_voxel_x  \\\n",
       "0  superior frontal gyrus, left, medial bank of g...     1266467           96   \n",
       "1      inferior frontal gyrus, triangular part, left     1266555          128   \n",
       "2                         medial orbital gyrus, left     1265851          100   \n",
       "3  cingulate gyrus, frontal part, left, inferior ...     1266689           96   \n",
       "4  superior frontal gyrus, left, lateral bank of ...     1265853          114   \n",
       "\n",
       "   mri_voxel_y  mri_voxel_z  mni_x  mni_y  mni_z  corrected_mni_x  \\\n",
       "0           55           47   -5.0   44.0   54.0        -4.456913   \n",
       "1          113           44  -37.0   47.0   -4.0       -37.014483   \n",
       "2          137           59   -9.0   32.0  -28.0        -9.535526   \n",
       "3          110           46   -5.0   45.0   -1.0        -5.445986   \n",
       "4           63           62  -23.0   29.0   46.0       -18.855630   \n",
       "\n",
       "   corrected_mni_y  corrected_mni_z    sampleID  probe2label  probe2dist  \n",
       "0        42.626309        53.306473  H0351_1009          192    0.000000  \n",
       "1        42.918867        -0.301717  H0351_1009          206    1.000000  \n",
       "2        30.015430       -24.276204  H0351_1009          148    0.000000  \n",
       "3        42.277137         1.581663  H0351_1009          102    0.000000  \n",
       "4        25.569178        43.817038  H0351_1009          192    1.414214  "
      ]
     },
     "execution_count": 38,
     "metadata": {},
     "output_type": "execute_result"
    }
   ],
   "source": [
    "sample_info = pd.read_csv(selected_samples_file, index_col=0)\n",
    "sample_info.head()"
   ]
  },
  {
   "cell_type": "code",
   "execution_count": 39,
   "metadata": {
    "scrolled": true
   },
   "outputs": [
    {
     "data": {
      "text/html": [
       "<div>\n",
       "<style scoped>\n",
       "    .dataframe tbody tr th:only-of-type {\n",
       "        vertical-align: middle;\n",
       "    }\n",
       "\n",
       "    .dataframe tbody tr th {\n",
       "        vertical-align: top;\n",
       "    }\n",
       "\n",
       "    .dataframe thead th {\n",
       "        text-align: right;\n",
       "    }\n",
       "</style>\n",
       "<table border=\"1\" class=\"dataframe\">\n",
       "  <thead>\n",
       "    <tr style=\"text-align: right;\">\n",
       "      <th></th>\n",
       "      <th>probe_name</th>\n",
       "      <th>Genes</th>\n",
       "    </tr>\n",
       "  </thead>\n",
       "  <tbody>\n",
       "    <tr>\n",
       "      <th>0</th>\n",
       "      <td>A_23_P100001</td>\n",
       "      <td>FAM174B</td>\n",
       "    </tr>\n",
       "    <tr>\n",
       "      <th>1</th>\n",
       "      <td>A_23_P100011</td>\n",
       "      <td>AP3S2 C15orf38-AP3S2 AP3S2 AP3S2</td>\n",
       "    </tr>\n",
       "    <tr>\n",
       "      <th>2</th>\n",
       "      <td>A_23_P100022</td>\n",
       "      <td>SV2B SV2B</td>\n",
       "    </tr>\n",
       "    <tr>\n",
       "      <th>3</th>\n",
       "      <td>A_23_P100056</td>\n",
       "      <td>RBPMS2</td>\n",
       "    </tr>\n",
       "    <tr>\n",
       "      <th>4</th>\n",
       "      <td>A_23_P100074</td>\n",
       "      <td>AVEN</td>\n",
       "    </tr>\n",
       "  </tbody>\n",
       "</table>\n",
       "</div>"
      ],
      "text/plain": [
       "     probe_name                              Genes\n",
       "0  A_23_P100001                           FAM174B \n",
       "1  A_23_P100011  AP3S2 C15orf38-AP3S2 AP3S2 AP3S2 \n",
       "2  A_23_P100022                         SV2B SV2B \n",
       "3  A_23_P100056                            RBPMS2 \n",
       "4  A_23_P100074                              AVEN "
      ]
     },
     "execution_count": 39,
     "metadata": {},
     "output_type": "execute_result"
    }
   ],
   "source": [
    "#re-annotated probes\n",
    "reannotator = pd.read_csv( os.path.join('/Users/acetylcoa/Gene_mapping/data/', 'AIBS_probe2gene_reannotator.txt'), sep='\\t', names=[\"probe_name\",\"Genes\"])\n",
    "reannotator.head()"
   ]
  },
  {
   "cell_type": "code",
   "execution_count": 40,
   "metadata": {},
   "outputs": [],
   "source": [
    "#in this section we are loading the AIBS data\n",
    "did=donors[0]\n",
    "probe_info=pd.read_csv( os.path.join(AIBS_path, did, 'Probes.csv') )\n",
    "\n",
    "GE_file = os.path.join(AIBS_path, \"GE.feather\")\n",
    "PA_file = os.path.join(AIBS_path, \"PA.feather\")\n"
   ]
  },
  {
   "cell_type": "code",
   "execution_count": 41,
   "metadata": {},
   "outputs": [
    {
     "name": "stderr",
     "output_type": "stream",
     "text": [
      "reading feather files into data frame\n"
     ]
    }
   ],
   "source": [
    "#if we have stored them as .feather files, skip this step.\n",
    "if not os.path.exists(GE_file):\n",
    "    sys.stderr.write(\"reading source files into data frame\\n\")\n",
    "\n",
    "    GE=pd.DataFrame()\n",
    "    PA=pd.DataFrame()\n",
    "    for did in donors:\n",
    "        sys.stderr.write(\"working on donor: \" + did + \"\\n\" )\n",
    "        si_tmp = pd.read_csv( os.path.join(AIBS_path, did, 'SampleAnnot.csv') )\n",
    "        cnames = ['probe_id']\n",
    "        cnames.extend(si_tmp.well_id.tolist())\n",
    "        ge_tmp = pd.read_csv( os.path.join(AIBS_path, did, 'MicroarrayExpression.csv'), names=cnames)\n",
    "        pa_tmp = pd.read_csv( os.path.join(AIBS_path, did, 'PACall.csv'), names=cnames)\n",
    "        if GE.shape == (0,0):\n",
    "            GE = GE.append(ge_tmp)\n",
    "            PA = PA.append(pa_tmp)\n",
    "        else:\n",
    "            GE = pd.merge(GE, ge_tmp, on=\"probe_id\")\n",
    "            PA = pd.merge(PA, pa_tmp, on=\"probe_id\")\n",
    "\n",
    "    feather.write_dataframe(GE, GE_file )\n",
    "    feather.write_dataframe(PA, PA_file )\n",
    "else:\n",
    "    sys.stderr.write(\"reading feather files into data frame\\n\")\n",
    "\n",
    "    GE = feather.read_dataframe(GE_file)\n",
    "    PA = feather.read_dataframe(PA_file)\n"
   ]
  },
  {
   "cell_type": "code",
   "execution_count": 42,
   "metadata": {},
   "outputs": [],
   "source": [
    "pidx_unique = reannotator.Genes.apply(CheckUniqueGene)\n",
    "probe_rm_names = ['dist=',',']\n",
    "#probe_rm_names = [',']\n",
    "pidx_inter   = ~reannotator.Genes.apply(FindAnySubstring, args=[probe_rm_names])\n"
   ]
  },
  {
   "cell_type": "code",
   "execution_count": 43,
   "metadata": {},
   "outputs": [
    {
     "data": {
      "text/plain": [
       "50598"
      ]
     },
     "execution_count": 43,
     "metadata": {},
     "output_type": "execute_result"
    }
   ],
   "source": [
    "sum(pidx_inter & pidx_unique)"
   ]
  },
  {
   "cell_type": "code",
   "execution_count": 44,
   "metadata": {},
   "outputs": [],
   "source": [
    "reanno_keep = reannotator[pidx_inter & pidx_unique]\n",
    "#use_probes \n",
    "probe_info_keep = probe_info.merge(reanno_keep)"
   ]
  },
  {
   "cell_type": "code",
   "execution_count": 45,
   "metadata": {},
   "outputs": [],
   "source": [
    "PA.set_index('probe_id', inplace=True)\n",
    "GE.set_index('probe_id', inplace=True)\n",
    "probe_info_keep = probe_info_keep.set_index('probe_id')"
   ]
  },
  {
   "cell_type": "code",
   "execution_count": 46,
   "metadata": {},
   "outputs": [
    {
     "data": {
      "text/plain": [
       "Int64Index([1058685, 1058684, 1058683, 1058682, 1058681, 1058680, 1058679,\n",
       "            1058678, 1058677, 1058676,\n",
       "            ...\n",
       "            1071192, 1071194, 1071198, 1071199, 1071200, 1071203, 1071207,\n",
       "            1071208, 1071209, 1071210],\n",
       "           dtype='int64', name='probe_id', length=49113)"
      ]
     },
     "execution_count": 46,
     "metadata": {},
     "output_type": "execute_result"
    }
   ],
   "source": [
    "probe_info_keep.index"
   ]
  },
  {
   "cell_type": "code",
   "execution_count": 47,
   "metadata": {},
   "outputs": [
    {
     "name": "stdout",
     "output_type": "stream",
     "text": [
      "(49113, 1248)\n"
     ]
    }
   ],
   "source": [
    "##find probes with low expression\n",
    "pa_tmp = PA.loc[probe_info_keep.index, sample_info.well_id.apply(str)]\n",
    "print(pa_tmp.shape)\n",
    "pa_expr = pa_tmp.apply(sum, axis=1)\n",
    "#pidx_minexpr = pa_tmp.apply(sum, axis=1) >= min_expr\n"
   ]
  },
  {
   "cell_type": "code",
   "execution_count": 48,
   "metadata": {},
   "outputs": [
    {
     "data": {
      "text/plain": [
       "<AxesSubplot:>"
      ]
     },
     "execution_count": 48,
     "metadata": {},
     "output_type": "execute_result"
    },
    {
     "data": {
      "image/png": "[encoded data removed]",
      "text/plain": [
       "<Figure size 432x288 with 1 Axes>"
      ]
     },
     "metadata": {
      "needs_background": "light"
     },
     "output_type": "display_data"
    }
   ],
   "source": [
    "pa_expr.hist(bins=100)"
   ]
  },
  {
   "cell_type": "code",
   "execution_count": 49,
   "metadata": {},
   "outputs": [],
   "source": [
    "def probes2genes(plist):\n",
    "    tmp=plist.Genes.apply(GetUniqueGene).values\n",
    "    tmp2=[]\n",
    "    for x in tmp:\n",
    "        tmp2.append(x[0])\n",
    "    return(list(set(tmp2)))"
   ]
  },
  {
   "cell_type": "code",
   "execution_count": 50,
   "metadata": {},
   "outputs": [
    {
     "name": "stdout",
     "output_type": "stream",
     "text": [
      "200 37551\n",
      "200 17064\n",
      "300 36657\n",
      "300 16772\n",
      "600 34512\n",
      "600 16103\n",
      "900 32251\n",
      "900 15412\n",
      "1100 29888\n",
      "1100 14677\n"
     ]
    }
   ],
   "source": [
    "for i in [200, 300, 600, 900, 1100]:\n",
    "    print(str(i) + \" \" + str(sum(pa_expr>=i)))\n",
    "    print(str(i) + \" \" + str(len(probes2genes(probe_info_keep[pa_expr>i]))))"
   ]
  },
  {
   "cell_type": "code",
   "execution_count": 51,
   "metadata": {},
   "outputs": [
    {
     "data": {
      "text/plain": [
       "(36657, 1248)"
      ]
     },
     "execution_count": 51,
     "metadata": {},
     "output_type": "execute_result"
    }
   ],
   "source": [
    "GE_use = GE.loc[probe_info_keep[pa_expr>=300].index, sample_info.well_id.apply(str)]\n",
    "GE_use.shape"
   ]
  },
  {
   "cell_type": "code",
   "execution_count": 52,
   "metadata": {},
   "outputs": [
    {
     "ename": "FileNotFoundError",
     "evalue": "[Errno 2] No such file or directory: '../data/probes_for_analysis.csv'",
     "output_type": "error",
     "traceback": [
      "\u001b[0;31m---------------------------------------------------------------------------\u001b[0m",
      "\u001b[0;31mFileNotFoundError\u001b[0m                         Traceback (most recent call last)",
      "\u001b[0;32m<ipython-input-52-7e604a7819ce>\u001b[0m in \u001b[0;36m<module>\u001b[0;34m\u001b[0m\n\u001b[1;32m      1\u001b[0m \u001b[0mprobes_for_analysis\u001b[0m \u001b[0;34m=\u001b[0m \u001b[0mprobe_info_keep\u001b[0m\u001b[0;34m[\u001b[0m\u001b[0mpa_expr\u001b[0m\u001b[0;34m>=\u001b[0m\u001b[0;36m300\u001b[0m\u001b[0;34m]\u001b[0m\u001b[0;34m\u001b[0m\u001b[0;34m\u001b[0m\u001b[0m\n\u001b[0;32m----> 2\u001b[0;31m \u001b[0mprobes_for_analysis\u001b[0m\u001b[0;34m.\u001b[0m\u001b[0mto_csv\u001b[0m\u001b[0;34m(\u001b[0m\u001b[0;34m\"../data/probes_for_analysis.csv\"\u001b[0m\u001b[0;34m)\u001b[0m\u001b[0;34m\u001b[0m\u001b[0;34m\u001b[0m\u001b[0m\n\u001b[0m",
      "\u001b[0;32m/opt/anaconda3/lib/python3.7/site-packages/pandas/core/generic.py\u001b[0m in \u001b[0;36mto_csv\u001b[0;34m(self, path_or_buf, sep, na_rep, float_format, columns, header, index, index_label, mode, encoding, compression, quoting, quotechar, line_terminator, chunksize, date_format, doublequote, escapechar, decimal, errors, storage_options)\u001b[0m\n\u001b[1;32m   3401\u001b[0m             \u001b[0mdoublequote\u001b[0m\u001b[0;34m=\u001b[0m\u001b[0mdoublequote\u001b[0m\u001b[0;34m,\u001b[0m\u001b[0;34m\u001b[0m\u001b[0;34m\u001b[0m\u001b[0m\n\u001b[1;32m   3402\u001b[0m             \u001b[0mescapechar\u001b[0m\u001b[0;34m=\u001b[0m\u001b[0mescapechar\u001b[0m\u001b[0;34m,\u001b[0m\u001b[0;34m\u001b[0m\u001b[0;34m\u001b[0m\u001b[0m\n\u001b[0;32m-> 3403\u001b[0;31m             \u001b[0mstorage_options\u001b[0m\u001b[0;34m=\u001b[0m\u001b[0mstorage_options\u001b[0m\u001b[0;34m,\u001b[0m\u001b[0;34m\u001b[0m\u001b[0;34m\u001b[0m\u001b[0m\n\u001b[0m\u001b[1;32m   3404\u001b[0m         )\n\u001b[1;32m   3405\u001b[0m \u001b[0;34m\u001b[0m\u001b[0m\n",
      "\u001b[0;32m/opt/anaconda3/lib/python3.7/site-packages/pandas/io/formats/format.py\u001b[0m in \u001b[0;36mto_csv\u001b[0;34m(self, path_or_buf, encoding, sep, columns, index_label, mode, compression, quoting, quotechar, line_terminator, chunksize, date_format, doublequote, escapechar, errors, storage_options)\u001b[0m\n\u001b[1;32m   1081\u001b[0m             \u001b[0mformatter\u001b[0m\u001b[0;34m=\u001b[0m\u001b[0mself\u001b[0m\u001b[0;34m.\u001b[0m\u001b[0mfmt\u001b[0m\u001b[0;34m,\u001b[0m\u001b[0;34m\u001b[0m\u001b[0;34m\u001b[0m\u001b[0m\n\u001b[1;32m   1082\u001b[0m         )\n\u001b[0;32m-> 1083\u001b[0;31m         \u001b[0mcsv_formatter\u001b[0m\u001b[0;34m.\u001b[0m\u001b[0msave\u001b[0m\u001b[0;34m(\u001b[0m\u001b[0;34m)\u001b[0m\u001b[0;34m\u001b[0m\u001b[0;34m\u001b[0m\u001b[0m\n\u001b[0m\u001b[1;32m   1084\u001b[0m \u001b[0;34m\u001b[0m\u001b[0m\n\u001b[1;32m   1085\u001b[0m         \u001b[0;32mif\u001b[0m \u001b[0mcreated_buffer\u001b[0m\u001b[0;34m:\u001b[0m\u001b[0;34m\u001b[0m\u001b[0;34m\u001b[0m\u001b[0m\n",
      "\u001b[0;32m/opt/anaconda3/lib/python3.7/site-packages/pandas/io/formats/csvs.py\u001b[0m in \u001b[0;36msave\u001b[0;34m(self)\u001b[0m\n\u001b[1;32m    232\u001b[0m             \u001b[0merrors\u001b[0m\u001b[0;34m=\u001b[0m\u001b[0mself\u001b[0m\u001b[0;34m.\u001b[0m\u001b[0merrors\u001b[0m\u001b[0;34m,\u001b[0m\u001b[0;34m\u001b[0m\u001b[0;34m\u001b[0m\u001b[0m\n\u001b[1;32m    233\u001b[0m             \u001b[0mcompression\u001b[0m\u001b[0;34m=\u001b[0m\u001b[0mself\u001b[0m\u001b[0;34m.\u001b[0m\u001b[0mcompression\u001b[0m\u001b[0;34m,\u001b[0m\u001b[0;34m\u001b[0m\u001b[0;34m\u001b[0m\u001b[0m\n\u001b[0;32m--> 234\u001b[0;31m             \u001b[0mstorage_options\u001b[0m\u001b[0;34m=\u001b[0m\u001b[0mself\u001b[0m\u001b[0;34m.\u001b[0m\u001b[0mstorage_options\u001b[0m\u001b[0;34m,\u001b[0m\u001b[0;34m\u001b[0m\u001b[0;34m\u001b[0m\u001b[0m\n\u001b[0m\u001b[1;32m    235\u001b[0m         ) as handles:\n\u001b[1;32m    236\u001b[0m \u001b[0;34m\u001b[0m\u001b[0m\n",
      "\u001b[0;32m/opt/anaconda3/lib/python3.7/site-packages/pandas/io/common.py\u001b[0m in \u001b[0;36mget_handle\u001b[0;34m(path_or_buf, mode, encoding, compression, memory_map, is_text, errors, storage_options)\u001b[0m\n\u001b[1;32m    645\u001b[0m                 \u001b[0mencoding\u001b[0m\u001b[0;34m=\u001b[0m\u001b[0mioargs\u001b[0m\u001b[0;34m.\u001b[0m\u001b[0mencoding\u001b[0m\u001b[0;34m,\u001b[0m\u001b[0;34m\u001b[0m\u001b[0;34m\u001b[0m\u001b[0m\n\u001b[1;32m    646\u001b[0m                 \u001b[0merrors\u001b[0m\u001b[0;34m=\u001b[0m\u001b[0merrors\u001b[0m\u001b[0;34m,\u001b[0m\u001b[0;34m\u001b[0m\u001b[0;34m\u001b[0m\u001b[0m\n\u001b[0;32m--> 647\u001b[0;31m                 \u001b[0mnewline\u001b[0m\u001b[0;34m=\u001b[0m\u001b[0;34m\"\"\u001b[0m\u001b[0;34m,\u001b[0m\u001b[0;34m\u001b[0m\u001b[0;34m\u001b[0m\u001b[0m\n\u001b[0m\u001b[1;32m    648\u001b[0m             )\n\u001b[1;32m    649\u001b[0m         \u001b[0;32melse\u001b[0m\u001b[0;34m:\u001b[0m\u001b[0;34m\u001b[0m\u001b[0;34m\u001b[0m\u001b[0m\n",
      "\u001b[0;31mFileNotFoundError\u001b[0m: [Errno 2] No such file or directory: '../data/probes_for_analysis.csv'"
     ]
    }
   ],
   "source": [
    "probes_for_analysis = probe_info_keep[pa_expr>=300]\n",
    "probes_for_analysis.to_csv(\"../data/probes_for_analysis.csv\")"
   ]
  },
  {
   "cell_type": "code",
   "execution_count": null,
   "metadata": {},
   "outputs": [],
   "source": []
  }
 ],
 "metadata": {
  "kernelspec": {
   "display_name": "Python 3",
   "language": "python",
   "name": "python3"
  },
  "language_info": {
   "codemirror_mode": {
    "name": "ipython",
    "version": 3
   },
   "file_extension": ".py",
   "mimetype": "text/x-python",
   "name": "python",
   "nbconvert_exporter": "python",
   "pygments_lexer": "ipython3",
   "version": "3.7.9"
  }
 },
 "nbformat": 4,
 "nbformat_minor": 4
}
