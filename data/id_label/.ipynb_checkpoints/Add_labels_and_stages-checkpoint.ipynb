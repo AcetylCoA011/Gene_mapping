{
 "cells": [
  {
   "cell_type": "markdown",
   "metadata": {},
   "source": [
    "# Add region labels and stages with the corresponding gene id to each subtype\n",
    "\n"
   ]
  },
  {
   "cell_type": "code",
   "execution_count": 4,
   "metadata": {},
   "outputs": [],
   "source": [
    "import pandas as pd\n",
    "gene_id = pd.read_csv(\"image_values_NM_MSMAPT.csv\")\n",
    "lobe_label = pd.read_csv(\"lobes_gif3_with_labels.csv\")\n",
    "EBM_stage = pd.read_csv(\"EBM_for_All_MS_Patients.csv\")\n",
    "first_merge = gene_id.merge(lobe_label, left_on=\"original\", right_on=\"labels\")\n",
    "final_merge_file = first_merge.merge(EBM_stage, left_on=\"regions\", right_on=\"NM_regions\")"
   ]
  },
  {
   "cell_type": "code",
   "execution_count": null,
   "metadata": {},
   "outputs": [],
   "source": []
  },
  {
   "cell_type": "code",
   "execution_count": 2,
   "metadata": {},
   "outputs": [],
   "source": [
    "# add SUSTAIN_stages to Cortex First\n",
    "CF = pd.read_csv(\"Cortex_First_stage.csv\")\n",
    "CF_data = final_merge_file.merge(CF, left_on= \"lobes\", right_on=\"lobes\")"
   ]
  },
  {
   "cell_type": "code",
   "execution_count": 3,
   "metadata": {},
   "outputs": [],
   "source": [
    "# output the prepared data for Cortex_First subtype\n",
    "CF_data.to_csv('Cortex_First_data.csv')"
   ]
  },
  {
   "cell_type": "code",
   "execution_count": null,
   "metadata": {},
   "outputs": [],
   "source": []
  },
  {
   "cell_type": "code",
   "execution_count": null,
   "metadata": {},
   "outputs": [],
   "source": []
  },
  {
   "cell_type": "code",
   "execution_count": 4,
   "metadata": {},
   "outputs": [],
   "source": [
    "# add stages to NAWM First\n",
    "NF = pd.read_csv(\"NAWM_First_stage.csv\")\n",
    "NF_data = final_merge_file.merge(NF, left_on=\"lobes\", right_on=\"lobes\")"
   ]
  },
  {
   "cell_type": "code",
   "execution_count": 5,
   "metadata": {},
   "outputs": [],
   "source": [
    "# output the prepared data for NAWM_First subtype\n",
    "NF_data.to_csv('NAWM_First_data.csv')"
   ]
  },
  {
   "cell_type": "code",
   "execution_count": null,
   "metadata": {},
   "outputs": [],
   "source": []
  },
  {
   "cell_type": "code",
   "execution_count": null,
   "metadata": {},
   "outputs": [],
   "source": []
  },
  {
   "cell_type": "code",
   "execution_count": 6,
   "metadata": {},
   "outputs": [],
   "source": [
    "# add stages to Lesion First\n",
    "LF = pd.read_csv(\"Lesion_First_stage.csv\")\n",
    "LF_data = final_merge_file.merge(LF, left_on=\"lobes\", right_on=\"lobes\")"
   ]
  },
  {
   "cell_type": "code",
   "execution_count": 7,
   "metadata": {},
   "outputs": [],
   "source": [
    "# output all prepared data for Lesion_First subtype\n",
    "LF_data.to_csv('Lesion_First_data.csv')"
   ]
  },
  {
   "cell_type": "code",
   "execution_count": null,
   "metadata": {},
   "outputs": [],
   "source": []
  },
  {
   "cell_type": "code",
   "execution_count": null,
   "metadata": {},
   "outputs": [],
   "source": []
  }
 ],
 "metadata": {
  "kernelspec": {
   "display_name": "Python 3",
   "language": "python",
   "name": "python3"
  },
  "language_info": {
   "codemirror_mode": {
    "name": "ipython",
    "version": 3
   },
   "file_extension": ".py",
   "mimetype": "text/x-python",
   "name": "python",
   "nbconvert_exporter": "python",
   "pygments_lexer": "ipython3",
   "version": "3.7.9"
  }
 },
 "nbformat": 4,
 "nbformat_minor": 4
}
